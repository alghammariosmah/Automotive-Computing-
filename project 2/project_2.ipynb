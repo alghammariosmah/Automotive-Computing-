{
 "cells": [
  {
   "cell_type": "markdown",
   "metadata": {},
   "source": [
    "## FH Hagenberg: Automotive Computation\n",
    "# Project 2: Pedestrian Detection\n",
    "\n",
    "Welcome to the <b>second Automotive Computing project</b>!<br>\n",
    "In this project you will implement a solution for detecting pedestrians in a single image!<br>Again the first part of your work is to compute the gradients in the images (you can copy the code of the first project). The next tast is to divide the image into non overlapping cells. For all these cells you have to calculate the orientation histogram. These cells are then parts of overlapping blocks in which all cell histograms are concatinated and normalized (to be robust against illumination).<br>\n",
    "Finally (which is not the part of your work) you train a linear Support Vector machine and evaluate its performance (you have to write the metric functions).<br>\n",
    "After you are able to observe the first results, implement the two alternative filters (3x1 and 1x3) for gradient computation which were presented in the lectures.<br>\n",
    "Which parameters (normalization, block size, cell size) lead to the best results on the test set?"
   ]
  },
  {
   "cell_type": "code",
   "execution_count": 1,
   "metadata": {
    "collapsed": true
   },
   "outputs": [],
   "source": [
    "# First check the Python version\n",
    "# If you have installed a different version, you should install the correct version to avoid conflicts\n",
    "import sys\n",
    "if sys.version_info.major != 2 or sys.version_info.minor != 7:\n",
    "    print('You are running a different version of Python!\\n\\n' \\\n",
    "          'You should consider using Python 2.7.x.\\n')\n",
    "    print('Try installing the Python 2.7 version of anaconda.\\n')"
   ]
  },
  {
   "cell_type": "code",
   "execution_count": 35,
   "metadata": {
    "collapsed": true
   },
   "outputs": [],
   "source": [
    "# Now get necessary libraries\n",
    "try:\n",
    "    import os # for file management\n",
    "    import numpy as np # for numeric computations\n",
    "    import math\n",
    "    from scipy import ndimage\n",
    "    \n",
    "    from scipy.misc import imread, imsave, imresize\n",
    "    from sklearn import svm\n",
    "    from skimage import feature # for canny edge computation\n",
    "    \n",
    "    from PIL import Image\n",
    "        \n",
    "    import matplotlib.pyplot as plt\n",
    "    from skimage.transform import resize\n",
    "    # this comment ensures that all images are plotted in this environment and not in a seperate window\n",
    "    %matplotlib inline\n",
    "    \n",
    "except ImportError:\n",
    "    print('You are missing some packages! ' \\\n",
    "          'Please check your Anaconda installation!')"
   ]
  },
  {
   "cell_type": "markdown",
   "metadata": {},
   "source": [
    "All the steps before are not relevant for solving the pedestrian detection task. The first step here is to load a single image containing a pedestrian.<br>"
   ]
  },
  {
   "cell_type": "code",
   "execution_count": 36,
   "metadata": {},
   "outputs": [
    {
     "data": {
      "image/png": "[encoded data removed]",
      "text/plain": [
       "<matplotlib.figure.Figure at 0xeb2c860>"
      ]
     },
     "metadata": {},
     "output_type": "display_data"
    }
   ],
   "source": [
    "# load a single image\n",
    "img = Image.open('../../project_2_train/train/1/pos/img_00000.pgm')\n",
    "\n",
    "numpyImage = None\n",
    "if img is not None:\n",
    "    numpyImage = np.array(img)\n",
    "    plt.imshow(numpyImage, cmap='gray')"
   ]
  },
  {
   "cell_type": "markdown",
   "metadata": {},
   "source": [
    "Now that we have plotted a single pedestrian we will implement all required steps which are necessary for a HOG descriptor:\n",
    "1. Compute the gradient images\n",
    "2. Subdivide the image into non overlapping cells\n",
    "3. Compute the gradient orientation histogram for each cell\n",
    "4. Put together a few cells to a block\n",
    "    a. Compute the normalized histogram for each block\n",
    "5. Concatenate the block histograms to a large vector (Hog descriptor)\n",
    "\n",
    "As in the last project, the functions are implemented and tested incremenally. The last step is to use this vector for classification."
   ]
  },
  {
   "cell_type": "markdown",
   "metadata": {},
   "source": [
    "# 1. Compute the gradient images.\n",
    "Please refer to the gradient computation section of project 1."
   ]
  },
  {
   "cell_type": "code",
   "execution_count": 129,
   "metadata": {
    "collapsed": true
   },
   "outputs": [],
   "source": [
    "def correlate3x3(kernel, image):\n",
    "    \"\"\"\n",
    "    This function correlates a filter kernel (3x3) with an image\n",
    "    \n",
    "    Parameters\n",
    "    ----------\n",
    "    kernel : 2d numpy array\n",
    "        This is the filter kernel used for the correlation\n",
    "        \n",
    "    image : 2d numpy array\n",
    "        Image which should be correlated with a given kernel\n",
    "        \n",
    "    Returns\n",
    "    -------\n",
    "    filteredImage : 2d numpy array\n",
    "        Image after the kernel was applied\n",
    "    \"\"\"\n",
    "    #init = np.zeros(image.shape)\n",
    "    #for i in xrange(0,len(image),3):\n",
    "    #    for j in xrange(0,len(image[0]),3):\n",
    "    #        chunk = image[i:i+3,j:j+3] \n",
    "    filteredImage = np.zeros(image.shape)\n",
    "    row,columns  = image.shape\n",
    "    for y in range(1, row -1): # height\n",
    "        for x in range(1, columns -1): # width\n",
    "            for kx in (0, len(kernel[0])-1): # height \n",
    "                for ky in (0, len(kernel[1])-1): # width\n",
    "                    filteredImage[y,x] +=  kernel[ky,kx] * image[y-1+ky, x-1+kx]\n",
    "    return filteredImage\n"
   ]
  },
  {
   "cell_type": "code",
   "execution_count": 130,
   "metadata": {
    "collapsed": true
   },
   "outputs": [],
   "source": [
    "def gradientX(image):\n",
    "    \"\"\"\n",
    "    Function computing the edges in X in an given image.\n",
    "    The parameter image is a 2d numpy array.\n",
    "    The function returns the edge-x image.\n",
    "    \n",
    "    Parameters\n",
    "    ----------\n",
    "    image : 2d numpy array\n",
    "        Input image\n",
    "        \n",
    "    Returns\n",
    "    -------\n",
    "    gx : 2d numpy array\n",
    "        Extracted horizontal edges\n",
    "    \"\"\"\n",
    "    kernel = (1.0/8.0) * np.array([[-1, 0, 1], [-2, 0, 2] , [-1, 0, 1]])\n",
    "    return correlate3x3(kernel, image)"
   ]
  },
  {
   "cell_type": "code",
   "execution_count": 131,
   "metadata": {
    "collapsed": true
   },
   "outputs": [],
   "source": [
    "def gradientY(image):\n",
    "    \"\"\"\n",
    "    Function computing the edges in Y in an given image.\n",
    "    The parameter image is a 2d numpy array.\n",
    "    The function returns the edge-y image.\n",
    "    Parameters\n",
    "    ----------\n",
    "    image : 2d numpy array\n",
    "        Input image\n",
    "        \n",
    "    Returns\n",
    "    -------\n",
    "    gy : 2d numpy array\n",
    "        Extracted vertical edges\n",
    "    \"\"\"\n",
    "    kernel = (1.0/8.0) *  np.matrix([[1, 2, 1], [0, 0, 0] , [-1, -2, -1]])\n",
    "    return correlate3x3(kernel, image)"
   ]
  },
  {
   "cell_type": "code",
   "execution_count": 132,
   "metadata": {
    "collapsed": true
   },
   "outputs": [],
   "source": [
    "def getMagnitude(gx, gy):\n",
    "    \"\"\"\n",
    "    Function computes the magnitude of the gradient\n",
    "    \n",
    "    Parameters\n",
    "    ----------\n",
    "    gx : 2d numpy array\n",
    "        Extracted horizontal edges\n",
    "        \n",
    "    gx : 2d numpy array\n",
    "        Extracted vertical edges\n",
    "        \n",
    "    Returns\n",
    "    -------\n",
    "    magnitudeImage : 2d numpy array\n",
    "        Computed magnitudes\n",
    "    \"\"\"\n",
    "    magnitudeImage = np.sqrt(np.power(gy, 2) + np.power(gx, 2))\n",
    "    return magnitudeImage"
   ]
  },
  {
   "cell_type": "code",
   "execution_count": 133,
   "metadata": {
    "collapsed": true
   },
   "outputs": [],
   "source": [
    "def getGradientOrientations(gx,gy):\n",
    "    \"\"\"\n",
    "    This function computes the gradient orientation \"image\".\n",
    "    The values are either in radians or in degrees - you have to be aware of it\n",
    "    \n",
    "    Parameters\n",
    "    ----------\n",
    "    gx : 2d numpy array\n",
    "        \"Image\" containing the horizontal edges\n",
    "    \n",
    "    gy : 2d numpy array\n",
    "        \"Image\" containing the vertical edges\n",
    "\n",
    "    Returns\n",
    "    -------\n",
    "    orientations : 2d numpy array\n",
    "        The gradient orientations for each pixel stored in an \"image\".\n",
    "        Angles in radians, in the range [-pi, pi].\n",
    "    \"\"\"\n",
    "    \n",
    "    orientations = np.arctan(gx, gy)\n",
    "    return orientations"
   ]
  },
  {
   "cell_type": "code",
   "execution_count": 154,
   "metadata": {},
   "outputs": [],
   "source": [
    "gx = gradientX(numpyImage)\n",
    "gy = gradientY(numpyImage)\n",
    "magnitudes = getMagnitude(gx,gy)\n",
    "directions = getGradientOrientations(gx,gy)"
   ]
  },
  {
   "cell_type": "markdown",
   "metadata": {},
   "source": [
    "# 2. Subdivide the image into non overlapping cells\n",
    "\n",
    "Your task is now to subdivide the given image into non overlapping cells. Lets define the size of each cell to be 6x6 pixels"
   ]
  },
  {
   "cell_type": "code",
   "execution_count": 125,
   "metadata": {
    "collapsed": true
   },
   "outputs": [],
   "source": [
    "# this function converts a list of lists into a single list\n",
    "flatten = lambda l: [item for sublist in l for item in sublist]"
   ]
  },
  {
   "cell_type": "code",
   "execution_count": 142,
   "metadata": {
    "collapsed": true
   },
   "outputs": [],
   "source": [
    "def plotCells(cells, image):\n",
    "    \"\"\"\n",
    "    This function plots the transformed parameters in the image\n",
    "    \n",
    "    Parameters\n",
    "    ----------\n",
    "    parameters : list of tuples\n",
    "        The parameters computed by the function houghTransform(...)\n",
    "        \n",
    "    image : 2d numpy array\n",
    "        Image which is populated with lines    \n",
    "    \"\"\"\n",
    "    plt.imshow(image, cmap='gray')\n",
    "    rows, cols = image.shape\n",
    "    \n",
    "    for cell in cells:\n",
    "        [startColumn, startRow, endColumn, endRow] = cell.getCoordinates()\n",
    "        endRow += 1\n",
    "        endColumn += 1\n",
    "        \n",
    "        #left top -> right top\n",
    "        plt.plot([startColumn, endColumn], [startRow, startRow], color='r', linestyle='-', linewidth=1)\n",
    "        #left top -> left bottom\n",
    "        plt.plot([startColumn, startColumn], [startRow, endRow], color='r', linestyle='-', linewidth=1)        \n",
    "        # right bottom -> left bottom\n",
    "        plt.plot([endColumn, startColumn], [endRow, endRow], color='r', linestyle='-', linewidth=1)\n",
    "        # right bottom -> right top\n",
    "        plt.plot([endColumn, endColumn], [endRow, startRow], color='r', linestyle='-', linewidth=1)\n",
    "        \n",
    "    plt.axis((0, cols, rows, 0))"
   ]
  },
  {
   "cell_type": "code",
   "execution_count": 168,
   "metadata": {},
   "outputs": [],
   "source": [
    "class Cell:\n",
    "    \"\"\"\n",
    "    A class containing all relevant functions for computing the orientation histogram\n",
    "    \"\"\"\n",
    "    def __init__(self, numberOfBins, useSigned):\n",
    "        \"\"\"\n",
    "        Constructor of the Cell class.\n",
    "        \n",
    "        Parameters\n",
    "        ----------\n",
    "        numberOfBins : int\n",
    "            Number of bins for the orientation histogram\n",
    "\n",
    "        useSigned : boolean\n",
    "            Use signed (180°) or unsigned (360°) orientations\n",
    "        \"\"\"\n",
    "        #self._gradientOrientationHistogram = np.zeros(numberOfBins)       \n",
    "        self._gradientOrientationHistogram = [0] * numberOfBins\n",
    "        \n",
    "        self._angleImage = None\n",
    "        self._magnitudeImage = None\n",
    "        self._numberOfBins = numberOfBins\n",
    "        \n",
    "        # if signed: 0 ... 180\n",
    "        # if unsigned: 0 ... 360\n",
    "        self._signedGradient = useSigned\n",
    "        \n",
    "        self._startColumn = 0\n",
    "        self._startRow = 0\n",
    "        self._endColumn = 0\n",
    "        self._endRow = 0\n",
    "        \n",
    "    def setCoordinates(self, startColumn, startRow, endColumn, endRow):\n",
    "        \"\"\"\n",
    "        This function sets the coordinates of the cell relative to the image\n",
    "        \n",
    "        Parameters\n",
    "        ----------\n",
    "        startColumn : int\n",
    "            The left most coordinate of the cell\n",
    "\n",
    "        startRow : int\n",
    "            The top most coordinate of the cell\n",
    "            \n",
    "        endColumn : int\n",
    "            The right most coordinate of the cell\n",
    "\n",
    "        endRow : int\n",
    "            The bottom most coordinate of the cell\n",
    "        \"\"\"\n",
    "        self._startColumn = startColumn\n",
    "        self._startRow = startRow\n",
    "        self._endColumn = endColumn\n",
    "        self._endRow = endRow\n",
    "        \n",
    "    def getCoordinates(self):\n",
    "        \"\"\"\n",
    "        This function return the coordinates of the cell relative to the image\n",
    "        \n",
    "        Return\n",
    "        ----------\n",
    "        List containing the left top corner and the right bottom border\n",
    "        \"\"\"\n",
    "        return [(self._startColumn,self._startRow),(self._endColumn,self._endRow)]\n",
    "        \n",
    "\n",
    "    def setDataRestrictedByInternalCoordinates(self, angles, magnitudes):\n",
    "        \"\"\"\n",
    "        This function sets the internal data (angles and magnitudes).\n",
    "        Since the variables angles and magnitudes have the size of the full patch (not the size of the cell)\n",
    "        you have to extract the corresponding submatrix (defined by startColumn, startRow, endColumn, endRow)\n",
    "        \n",
    "        Parameters\n",
    "        ----------\n",
    "        angles : 2d numpy array\n",
    "            Orientation of gradients\n",
    "\n",
    "        magnitudes : 2d numpy array\n",
    "            Gradient magnitudes\n",
    "        \"\"\"\n",
    "        self._angleImage = angles[startRow:endRow, startColumn:endColumn]\n",
    "        self._magnitudeImage = magnitudes[startRow:endRow, startColumn:endColumn]\n",
    "       \n",
    "                \n",
    "    def createHistogram(self):\n",
    "        \"\"\"\n",
    "        This function populates the gradient histogram of this cell.\n",
    "        \"\"\"\n",
    "        pass\n",
    "    \n",
    "        \n",
    "    \n",
    "    def getHistogram(self):\n",
    "        \"\"\"\n",
    "        This function returns the cell histogram\n",
    "        \n",
    "        Return\n",
    "        ----------\n",
    "        numpy array containing the cell's gradient orientation histogram.\n",
    "        \"\"\"\n",
    "        return createHistogram()\n",
    "  \n",
    "    \n",
    "    def plotHistogram(self):\n",
    "        \"\"\"\n",
    "        This function plots the cell's gradient orientation histogram.\n",
    "        \"\"\"\n",
    "        bins = range(self._numberOfBins)\n",
    "        plt.bar(bins,self._gradientOrientationHistogram)\n",
    "        plt.title(\"Gradient Orientation Histogram of a cell\")\n",
    "        plt.ylabel(\"Magnitude vote\")\n",
    "        plt.xlabel(\"Bin\")\n",
    "        plt.show()"
   ]
  },
  {
   "cell_type": "code",
   "execution_count": 179,
   "metadata": {
    "collapsed": true
   },
   "outputs": [],
   "source": [
    "cellWidth = 6\n",
    "cellHeight = 6\n",
    "\n",
    "# we define 9 bins for the gradient orientation histogram\n",
    "numberOfBins = 9 # <- EXPERIMENT\n",
    "useSigned = False # <- EXPERIMENT"
   ]
  },
  {
   "cell_type": "code",
   "execution_count": 206,
   "metadata": {},
   "outputs": [
    {
     "name": "stdout",
     "output_type": "stream",
     "text": [
      "3 6\n",
      "[(0, 0), (5, 5)]\n",
      "[(0, 6), (5, 11)]\n",
      "[(0, 12), (5, 17)]\n",
      "[(6, 0), (11, 5)]\n",
      "[(6, 6), (11, 11)]\n",
      "[(6, 12), (11, 17)]\n",
      "[(12, 0), (17, 5)]\n",
      "[(12, 6), (17, 11)]\n",
      "[(12, 12), (17, 17)]\n",
      "[(18, 0), (23, 5)]\n",
      "[(18, 6), (23, 11)]\n",
      "[(18, 12), (23, 17)]\n",
      "[(24, 0), (29, 5)]\n",
      "[(24, 6), (29, 11)]\n",
      "[(24, 12), (29, 17)]\n",
      "[(30, 0), (35, 5)]\n",
      "[(30, 6), (35, 11)]\n",
      "[(30, 12), (35, 17)]\n",
      "None\n"
     ]
    }
   ],
   "source": [
    "def subdivideIntoCells(image, cellHeight, cellWidth, numberOfBins, useSigned):\n",
    "    \"\"\"\n",
    "    This function divides the image into tiles.\n",
    "\n",
    "    Parameters\n",
    "    ----------\n",
    "    image : 2d numpy array\n",
    "        The pedestrian or background imge\n",
    "\n",
    "    cellHeight : int\n",
    "        The height of a cell\n",
    "        \n",
    "    cellWidth : int\n",
    "        The width of a cell\n",
    "    \n",
    "    numberOfBins : int\n",
    "        The number of bins used for the gradient orientation histogram\n",
    "        \n",
    "    useSigned : boolean\n",
    "        If true we use 180 degrees else 360 degrees\n",
    "        \n",
    "    Return\n",
    "    ---------\n",
    "    cellGrid - 2d grid of cells\n",
    "    \"\"\"\n",
    "    cell = Cell(numberOfBins, useSigned)\n",
    "    numRows , numColumns = image.shape\n",
    "    \n",
    "    numCellsHorizontal = int(math.ceil(numColumns / cellWidth)) \n",
    "    numCellsVertical = int(math.ceil(numRows / cellHeight)) \n",
    "        \n",
    "    \n",
    "    \n",
    "    # determine the number of cells used for the image        \n",
    "    assert( (0 == (numRows % cellHeight)) and (0 == (numColumns % cellWidth)))\n",
    "    \n",
    "\n",
    "    # create a 2d grid of cells\n",
    "    cellGrid = [[Cell(numberOfBins, useSigned) for j in range(numCellsHorizontal)] for i in range(numCellsVertical)]\n",
    "\n",
    "    \n",
    "    for x in range(len(cellGrid)): # height \n",
    "        for y in range(len(cellGrid[0])): # width\n",
    "            startRow = cellHeight * y\n",
    "            startColumn = cellWidth * x\n",
    "            endColumn =  cellWidth *(x+1) -1\n",
    "            endRow = cellHeight * (y+1) -1\n",
    "            cellGrid[x][y].setCoordinates(startColumn, startRow,  endColumn, endRow) #startColumn, startRow, endColumn, endRow\n",
    "            #print cellGrid[x][y].getCoordinates()"
   ]
  },
  {
   "cell_type": "code",
   "execution_count": 207,
   "metadata": {},
   "outputs": [
    {
     "name": "stdout",
     "output_type": "stream",
     "text": [
      "3 6\n",
      "[(0, 0), (5, 5)]\n",
      "[(0, 6), (5, 11)]\n",
      "[(0, 12), (5, 17)]\n",
      "[(6, 0), (11, 5)]\n",
      "[(6, 6), (11, 11)]\n",
      "[(6, 12), (11, 17)]\n",
      "[(12, 0), (17, 5)]\n",
      "[(12, 6), (17, 11)]\n",
      "[(12, 12), (17, 17)]\n",
      "[(18, 0), (23, 5)]\n",
      "[(18, 6), (23, 11)]\n",
      "[(18, 12), (23, 17)]\n",
      "[(24, 0), (29, 5)]\n",
      "[(24, 6), (29, 11)]\n",
      "[(24, 12), (29, 17)]\n",
      "[(30, 0), (35, 5)]\n",
      "[(30, 6), (35, 11)]\n",
      "[(30, 12), (35, 17)]\n"
     ]
    },
    {
     "ename": "TypeError",
     "evalue": "'NoneType' object is not iterable",
     "output_type": "error",
     "traceback": [
      "\u001b[1;31m\u001b[0m",
      "\u001b[1;31mTypeError\u001b[0mTraceback (most recent call last)",
      "\u001b[1;32m<ipython-input-207-84a7b3fd1564>\u001b[0m in \u001b[0;36m<module>\u001b[1;34m()\u001b[0m\n\u001b[0;32m      1\u001b[0m \u001b[0mcellGrid\u001b[0m \u001b[1;33m=\u001b[0m \u001b[0msubdivideIntoCells\u001b[0m\u001b[1;33m(\u001b[0m\u001b[0mnumpyImage\u001b[0m\u001b[1;33m,\u001b[0m \u001b[0mcellHeight\u001b[0m\u001b[1;33m,\u001b[0m \u001b[0mcellWidth\u001b[0m\u001b[1;33m,\u001b[0m \u001b[0mnumberOfBins\u001b[0m\u001b[1;33m,\u001b[0m \u001b[0museSigned\u001b[0m\u001b[1;33m)\u001b[0m\u001b[1;33m\u001b[0m\u001b[0m\n\u001b[1;32m----> 2\u001b[1;33m \u001b[0mplotCells\u001b[0m\u001b[1;33m(\u001b[0m\u001b[0mflatten\u001b[0m\u001b[1;33m(\u001b[0m\u001b[0mcellGrid\u001b[0m\u001b[1;33m)\u001b[0m\u001b[1;33m,\u001b[0m \u001b[0mnumpyImage\u001b[0m\u001b[1;33m)\u001b[0m\u001b[1;33m\u001b[0m\u001b[0m\n\u001b[0m",
      "\u001b[1;32m<ipython-input-125-e1ceb346f8bb>\u001b[0m in \u001b[0;36m<lambda>\u001b[1;34m(l)\u001b[0m\n\u001b[0;32m      1\u001b[0m \u001b[1;31m# this function converts a list of lists into a single list\u001b[0m\u001b[1;33m\u001b[0m\u001b[1;33m\u001b[0m\u001b[0m\n\u001b[1;32m----> 2\u001b[1;33m \u001b[0mflatten\u001b[0m \u001b[1;33m=\u001b[0m \u001b[1;32mlambda\u001b[0m \u001b[0ml\u001b[0m\u001b[1;33m:\u001b[0m \u001b[1;33m[\u001b[0m\u001b[0mitem\u001b[0m \u001b[1;32mfor\u001b[0m \u001b[0msublist\u001b[0m \u001b[1;32min\u001b[0m \u001b[0ml\u001b[0m \u001b[1;32mfor\u001b[0m \u001b[0mitem\u001b[0m \u001b[1;32min\u001b[0m \u001b[0msublist\u001b[0m\u001b[1;33m]\u001b[0m\u001b[1;33m\u001b[0m\u001b[0m\n\u001b[0m",
      "\u001b[1;31mTypeError\u001b[0m: 'NoneType' object is not iterable"
     ]
    }
   ],
   "source": [
    "cellGrid = subdivideIntoCells(numpyImage, cellHeight, cellWidth, numberOfBins, useSigned)\n",
    "plotCells(flatten(cellGrid), numpyImage)"
   ]
  },
  {
   "cell_type": "markdown",
   "metadata": {
    "collapsed": true
   },
   "source": [
    "## Test the histogram generation"
   ]
  },
  {
   "cell_type": "code",
   "execution_count": 141,
   "metadata": {},
   "outputs": [
    {
     "data": {
      "image/png": "[encoded data removed]",
      "text/plain": [
       "<matplotlib.figure.Figure at 0xee826a0>"
      ]
     },
     "metadata": {},
     "output_type": "display_data"
    }
   ],
   "source": [
    "test_magnitudes = np.ones((6,6))\n",
    "test_orientations = np.ones((6,6)) * 90.0 # only 90 degree angles\n",
    "test_orientations = test_orientations * math.pi / 180.0\n",
    "test_useSigned = True\n",
    "test_numberOfBins = 9\n",
    "\n",
    "test_cell = Cell(test_numberOfBins, test_useSigned)\n",
    "test_cell.setCoordinates(0,0,5,5)\n",
    "test_cell.setDataRestrictedByInternalCoordinates( test_orientations, test_magnitudes )\n",
    "test_cell.createHistogram()\n",
    "test_cell.plotHistogram()"
   ]
  },
  {
   "cell_type": "code",
   "execution_count": 303,
   "metadata": {},
   "outputs": [
    {
     "data": {
      "image/png": "[encoded data removed]",
      "text/plain": [
       "<matplotlib.figure.Figure at 0x19cfceb8>"
      ]
     },
     "metadata": {},
     "output_type": "display_data"
    }
   ],
   "source": [
    "test_magnitudes = np.ones((6,6))\n",
    "test_orientations = np.ones((6,6)) * 300\n",
    "test_orientations[0,0] = 180\n",
    "test_orientations[0,1] = 19\n",
    "test_orientations[0,2] = 20\n",
    "test_orientations[0,3] = 39\n",
    "test_orientations[0,4] = 40\n",
    "test_orientations[0,5] = 359\n",
    "test_orientations[1,0] = 360\n",
    "test_orientations = test_orientations * math.pi / 180.0\n",
    "test_useSigned = True\n",
    "test_numberOfBins = 9\n",
    "\n",
    "test_cell = Cell(test_numberOfBins, test_useSigned)\n",
    "test_cell.setCoordinates(0,0,5,5)\n",
    "test_cell.setDataRestrictedByInternalCoordinates( test_orientations, test_magnitudes )\n",
    "test_cell.createHistogram()\n",
    "test_histogram = test_cell.plotHistogram()"
   ]
  }
 ],
 "metadata": {
  "anaconda-cloud": {},
  "kernelspec": {
   "display_name": "Python 2",
   "language": "python",
   "name": "python2"
  },
  "language_info": {
   "codemirror_mode": {
    "name": "ipython",
    "version": 2
   },
   "file_extension": ".py",
   "mimetype": "text/x-python",
   "name": "python",
   "nbconvert_exporter": "python",
   "pygments_lexer": "ipython2",
   "version": "2.7.14"
  }
 },
 "nbformat": 4,
 "nbformat_minor": 1
}
