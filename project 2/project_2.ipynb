{
 "cells": [
  {
   "cell_type": "markdown",
   "metadata": {},
   "source": [
    "## FH Hagenberg: Automotive Computation\n",
    "# Project 2: Pedestrian Detection\n",
    "\n",
    "Welcome to the <b>second Automotive Computing project</b>!<br>\n",
    "In this project you will implement a solution for detecting pedestrians in a single image!<br>Again the first part of your work is to compute the gradients in the images (you can copy the code of the first project). The next tast is to divide the image into non overlapping cells. For all these cells you have to calculate the orientation histogram. These cells are then parts of overlapping blocks in which all cell histograms are concatinated and normalized (to be robust against illumination).<br>\n",
    "Finally (which is not the part of your work) you train a linear Support Vector machine and evaluate its performance (you have to write the metric functions).<br>\n",
    "After you are able to observe the first results, implement the two alternative filters (3x1 and 1x3) for gradient computation which were presented in the lectures.<br>\n",
    "Which parameters (normalization, block size, cell size) lead to the best results on the test set?\n",
    "\n",
    "### Where does the images come from:\n",
    "http://www.lookingatpeople.com/download-daimler-ped-class-benchmark/index.html\n",
    "\n",
    "### Which restrictions do you have:\n",
    "Do not use library functions which are able to calculate gradients, magnitutes, hough transformation etc. (in other words, the functions should be implemented on your own)\n",
    "\n",
    "### Where can I get more information:\n",
    "The interested reader can read the work of Dalal and Triggs:\n",
    "https://lear.inrialpes.fr/people/triggs/pubs/Dalal-cvpr05.pdf<br>\n",
    "They developed the Histogram of Oriented Gradients descriptor for pedestrian detection. In the work you could find some parameters which could be of interest for you."
   ]
  },
  {
   "cell_type": "code",
   "execution_count": 287,
   "metadata": {},
   "outputs": [],
   "source": [
    "# First check the Python version\n",
    "# If you have installed a different version, you should install the correct version to avoid conflicts\n",
    "import sys\n",
    "if sys.version_info.major != 2 or sys.version_info.minor != 7:\n",
    "    print('You are running a different version of Python!\\n\\n' \\\n",
    "          'You should consider using Python 2.7.x.\\n')\n",
    "    print('Try installing the Python 2.7 version of anaconda.\\n')"
   ]
  },
  {
   "cell_type": "code",
   "execution_count": 288,
   "metadata": {},
   "outputs": [],
   "source": [
    "# Now get necessary libraries\n",
    "try:\n",
    "    import os # for file management\n",
    "    import numpy as np # for numeric computations\n",
    "    import math\n",
    "    from scipy import ndimage\n",
    "    \n",
    "    from scipy.misc import imread, imsave, imresize\n",
    "    from sklearn import svm\n",
    "    from skimage import feature # for canny edge computation\n",
    "    \n",
    "    from PIL import Image\n",
    "        \n",
    "    import matplotlib.pyplot as plt\n",
    "    from skimage.transform import resize\n",
    "    # this comment ensures that all images are plotted in this environment and not in a seperate window\n",
    "    %matplotlib inline\n",
    "    \n",
    "except ImportError:\n",
    "    print('You are missing some packages! ' \\\n",
    "          'Please check your Anaconda installation!')"
   ]
  },
  {
   "cell_type": "markdown",
   "metadata": {},
   "source": [
    "All the steps before are not relevant for solving the pedestrian detection task. The first step here is to load a single image containing a pedestrian.<br>"
   ]
  },
  {
   "cell_type": "code",
   "execution_count": 289,
   "metadata": {},
   "outputs": [
    {
     "data": {
      "image/png": "[encoded data removed]",
      "text/plain": [
       "<matplotlib.figure.Figure at 0xb0d7b70>"
      ]
     },
     "metadata": {},
     "output_type": "display_data"
    }
   ],
   "source": [
    "# load a single image\n",
    "img = Image.open('../dataset/train/1/pos/img_00000.pgm')\n",
    "\n",
    "numpyImage = None\n",
    "if img is not None:\n",
    "    numpyImage = np.array(img)\n",
    "    plt.imshow(numpyImage, cmap='gray')"
   ]
  },
  {
   "cell_type": "markdown",
   "metadata": {},
   "source": [
    "Now that we have plotted a single pedestrian we will implement all required steps which are necessary for a HOG descriptor:\n",
    "1. Compute the gradient images\n",
    "2. Subdivide the image into non overlapping cells\n",
    "3. Compute the gradient orientation histogram for each cell\n",
    "4. Put together a few cells to a block<br>\n",
    "    a. Compute the normalized histogram for each block\n",
    "5. Concatenate the block histograms to a large vector (Hog descriptor)\n",
    "\n",
    "As in the last project, the functions are implemented and tested incremenally. The last step is to use this vector for classification."
   ]
  },
  {
   "cell_type": "markdown",
   "metadata": {},
   "source": [
    "# 1. Compute the gradient images.\n",
    "Please refer to the gradient computation section of project 1."
   ]
  },
  {
   "cell_type": "code",
   "execution_count": 290,
   "metadata": {},
   "outputs": [],
   "source": [
    "def correlate3x3(kernel, image):\n",
    "    \"\"\"\n",
    "    This function correlates a filter kernel (3x3) with an image\n",
    "    \n",
    "    Parameters\n",
    "    ----------\n",
    "    kernel : 2d numpy array\n",
    "        This is the filter kernel used for the correlation\n",
    "        \n",
    "    image : 2d numpy array\n",
    "        Image which should be correlated with a given kernel\n",
    "        \n",
    "    Returns\n",
    "    -------\n",
    "    filteredImage : 2d numpy array\n",
    "        Image after the kernel was applied\n",
    "    \"\"\"\n",
    "    pass"
   ]
  },
  {
   "cell_type": "code",
   "execution_count": 291,
   "metadata": {},
   "outputs": [],
   "source": [
    "def gradientX(image):\n",
    "    \"\"\"\n",
    "    Function computing the edges in X in an given image.\n",
    "    The parameter image is a 2d numpy array.\n",
    "    The function returns the edge-x image.\n",
    "    \n",
    "    Parameters\n",
    "    ----------\n",
    "    image : 2d numpy array\n",
    "        Input image\n",
    "        \n",
    "    Returns\n",
    "    -------\n",
    "    gx : 2d numpy array\n",
    "        Extracted horizontal edges\n",
    "    \"\"\"\n",
    "    \n",
    "    pass"
   ]
  },
  {
   "cell_type": "code",
   "execution_count": 292,
   "metadata": {
    "collapsed": true
   },
   "outputs": [],
   "source": [
    "def gradientY(image):\n",
    "    \"\"\"\n",
    "    Function computing the edges in Y in an given image.\n",
    "    The parameter image is a 2d numpy array.\n",
    "    The function returns the edge-y image.\n",
    "    Parameters\n",
    "    ----------\n",
    "    image : 2d numpy array\n",
    "        Input image\n",
    "        \n",
    "    Returns\n",
    "    -------\n",
    "    gy : 2d numpy array\n",
    "        Extracted vertical edges\n",
    "    \"\"\"\n",
    "    \n",
    "    pass"
   ]
  },
  {
   "cell_type": "code",
   "execution_count": 293,
   "metadata": {},
   "outputs": [],
   "source": [
    "def getMagnitude(gx, gy):\n",
    "    \"\"\"\n",
    "    Function computes the magnitude of the gradient\n",
    "    \n",
    "    Parameters\n",
    "    ----------\n",
    "    gx : 2d numpy array\n",
    "        Extracted horizontal edges\n",
    "        \n",
    "    gx : 2d numpy array\n",
    "        Extracted vertical edges\n",
    "        \n",
    "    Returns\n",
    "    -------\n",
    "    magnitudeImage : 2d numpy array\n",
    "        Computed magnitudes\n",
    "    \"\"\"\n",
    "    \n",
    "    pass"
   ]
  },
  {
   "cell_type": "code",
   "execution_count": 294,
   "metadata": {},
   "outputs": [],
   "source": [
    "def getGradientOrientations(gx,gy):\n",
    "    \"\"\"\n",
    "    This function computes the gradient orientation \"image\".\n",
    "    The values are either in radians or in degrees - you have to be aware of it\n",
    "    \n",
    "    Parameters\n",
    "    ----------\n",
    "    gx : 2d numpy array\n",
    "        \"Image\" containing the horizontal edges\n",
    "    \n",
    "    gy : 2d numpy array\n",
    "        \"Image\" containing the vertical edges\n",
    "\n",
    "    Returns\n",
    "    -------\n",
    "    orientations : 2d numpy array\n",
    "        The gradient orientations for each pixel stored in an \"image\".\n",
    "        Angles in radians, in the range [-pi, pi].\n",
    "    \"\"\"\n",
    "    pass "
   ]
  },
  {
   "cell_type": "code",
   "execution_count": 295,
   "metadata": {},
   "outputs": [],
   "source": [
    "gx = gradientX(numpyImage)\n",
    "gy = gradientY(numpyImage)\n",
    "magnitudes = getMagnitude(gx,gy)\n",
    "directions = getGradientOrientations(gx,gy)"
   ]
  },
  {
   "cell_type": "markdown",
   "metadata": {},
   "source": [
    "# 2. Subdivide the image into non overlapping cells\n",
    "\n",
    "Your task is now to subdivide the given image into non overlapping cells. Lets define the size of each cell to be 6x6 pixels"
   ]
  },
  {
   "cell_type": "code",
   "execution_count": 296,
   "metadata": {
    "collapsed": true
   },
   "outputs": [],
   "source": [
    "# this function converts a list of lists into a single list\n",
    "flatten = lambda l: [item for sublist in l for item in sublist]"
   ]
  },
  {
   "cell_type": "code",
   "execution_count": 297,
   "metadata": {},
   "outputs": [],
   "source": [
    "def plotCells(cells, image):\n",
    "    \"\"\"\n",
    "    This function plots the transformed parameters in the image\n",
    "    \n",
    "    Parameters\n",
    "    ----------\n",
    "    parameters : list of tuples\n",
    "        The parameters computed by the function houghTransform(...)\n",
    "        \n",
    "    image : 2d numpy array\n",
    "        Image which is populated with lines    \n",
    "    \"\"\"\n",
    "    plt.imshow(image, cmap='gray')\n",
    "    rows, cols = image.shape\n",
    "    \n",
    "    for cell in cells:\n",
    "        [startColumn, startRow, endColumn, endRow] = cell.getCoordinates()\n",
    "        endRow += 1\n",
    "        endColumn += 1\n",
    "        \n",
    "        #left top -> right top\n",
    "        plt.plot([startColumn, endColumn], [startRow, startRow], color='r', linestyle='-', linewidth=1)\n",
    "        #left top -> left bottom\n",
    "        plt.plot([startColumn, startColumn], [startRow, endRow], color='r', linestyle='-', linewidth=1)        \n",
    "        # right bottom -> left bottom\n",
    "        plt.plot([endColumn, startColumn], [endRow, endRow], color='r', linestyle='-', linewidth=1)\n",
    "        # right bottom -> right top\n",
    "        plt.plot([endColumn, endColumn], [endRow, startRow], color='r', linestyle='-', linewidth=1)\n",
    "        \n",
    "    plt.axis((0, cols, rows, 0))"
   ]
  },
  {
   "cell_type": "code",
   "execution_count": 298,
   "metadata": {
    "collapsed": true
   },
   "outputs": [],
   "source": [
    "class Cell:\n",
    "    \"\"\"\n",
    "    A class containing all relevant functions for computing the orientation histogram\n",
    "    \"\"\"\n",
    "    def __init__(self, numberOfBins, useSigned):\n",
    "        \"\"\"\n",
    "        Constructor of the Cell class.\n",
    "        \n",
    "        Parameters\n",
    "        ----------\n",
    "        numberOfBins : int\n",
    "            Number of bins for the orientation histogram\n",
    "\n",
    "        useSigned : boolean\n",
    "            Use signed (180°) or unsigned (360°) orientations\n",
    "        \"\"\"\n",
    "        #self._gradientOrientationHistogram = np.zeros(numberOfBins)       \n",
    "        self._gradientOrientationHistogram = [0] * numberOfBins\n",
    "        \n",
    "        self._angleImage = None\n",
    "        self._magnitudeImage = None\n",
    "        self._numberOfBins = numberOfBins\n",
    "        \n",
    "        # if signed: 0 ... 180\n",
    "        # if unsigned: 0 ... 360\n",
    "        self._signedGradient = useSigned\n",
    "        \n",
    "        self._startColumn = 0\n",
    "        self._startRow = 0\n",
    "        self._endColumn = 0\n",
    "        self._endRow = 0\n",
    "        \n",
    "    def setCoordinates(self, startColumn, startRow, endColumn, endRow):\n",
    "        \"\"\"\n",
    "        This function sets the coordinates of the cell relative to the image\n",
    "        \n",
    "        Parameters\n",
    "        ----------\n",
    "        startColumn : int\n",
    "            The left most coordinate of the cell\n",
    "\n",
    "        startRow : int\n",
    "            The top most coordinate of the cell\n",
    "            \n",
    "        endColumn : int\n",
    "            The right most coordinate of the cell\n",
    "\n",
    "        endRow : int\n",
    "            The bottom most coordinate of the cell\n",
    "        \"\"\"\n",
    "        \n",
    "        pass\n",
    "        \n",
    "    def getCoordinates(self):\n",
    "        \"\"\"\n",
    "        This function return the coordinates of the cell relative to the image\n",
    "        \n",
    "        Return\n",
    "        ----------\n",
    "        List containing the left top corner and the right bottom border\n",
    "        \"\"\"\n",
    "        \n",
    "        pass\n",
    "\n",
    "    def setDataRestrictedByInternalCoordinates(self, angles, magnitudes):\n",
    "        \"\"\"\n",
    "        This function sets the internal data (angles and magnitudes).\n",
    "        Since the variables angles and magnitudes have the size of the full patch (not the size of the cell)\n",
    "        you have to extract the corresponding submatrix (defined by startColumn, startRow, endColumn, endRow)\n",
    "        \n",
    "        Parameters\n",
    "        ----------\n",
    "        angles : 2d numpy array\n",
    "            Orientation of gradients\n",
    "\n",
    "        magnitudes : 2d numpy array\n",
    "            Gradient magnitudes\n",
    "        \"\"\"\n",
    "        \n",
    "        pass\n",
    "                \n",
    "    def createHistogram(self):\n",
    "        \"\"\"\n",
    "        This function populates the gradient histogram of this cell.\n",
    "        \"\"\"\n",
    "        \n",
    "        pass\n",
    "    \n",
    "    def getHistogram(self):\n",
    "        \"\"\"\n",
    "        This function returns the cell histogram\n",
    "        \n",
    "        Return\n",
    "        ----------\n",
    "        numpy array containing the cell's gradient orientation histogram.\n",
    "        \"\"\"\n",
    "        \n",
    "        pass\n",
    "    \n",
    "    def plotHistogram(self):\n",
    "        \"\"\"\n",
    "        This function plots the cell's gradient orientation histogram.\n",
    "        \"\"\"\n",
    "        bins = range(self._numberOfBins)\n",
    "        plt.bar(bins,self._gradientOrientationHistogram)\n",
    "        plt.title(\"Gradient Orientation Histogram of a cell\")\n",
    "        plt.ylabel(\"Magnitude vote\")\n",
    "        plt.xlabel(\"Bin\")\n",
    "        plt.show()"
   ]
  },
  {
   "cell_type": "code",
   "execution_count": 299,
   "metadata": {
    "collapsed": true
   },
   "outputs": [],
   "source": [
    "cellWidth = 6\n",
    "cellHeight = 6\n",
    "\n",
    "# we define 9 bins for the gradient orientation histogram\n",
    "numberOfBins = 9 # <- EXPERIMENT\n",
    "useSigned = False # <- EXPERIMENT"
   ]
  },
  {
   "cell_type": "code",
   "execution_count": 300,
   "metadata": {},
   "outputs": [
    {
     "data": {
      "image/png": "[encoded data removed]",
      "text/plain": [
       "<matplotlib.figure.Figure at 0x1a0d5470>"
      ]
     },
     "metadata": {},
     "output_type": "display_data"
    }
   ],
   "source": [
    "def subdivideIntoCells(image, cellHeight, cellWidth, numberOfBins, useSigned):\n",
    "    \"\"\"\n",
    "    This function divides the image into tiles.\n",
    "\n",
    "    Parameters\n",
    "    ----------\n",
    "    image : 2d numpy array\n",
    "        The pedestrian or background imge\n",
    "\n",
    "    cellHeight : int\n",
    "        The height of a cell\n",
    "        \n",
    "    cellWidth : int\n",
    "        The width of a cell\n",
    "    \n",
    "    numberOfBins : int\n",
    "        The number of bins used for the gradient orientation histogram\n",
    "        \n",
    "    useSigned : boolean\n",
    "        If true we use 180 degrees else 360 degrees\n",
    "        \n",
    "    Return\n",
    "    ---------\n",
    "    cellGrid - 2d grid of cells\n",
    "    \"\"\"\n",
    "\n",
    "    \n",
    "    # determine the number of cells used for the image        \n",
    "    assert( (0 == (numRows % cellHeight)) and (0 == (numColumns % cellWidth)))\n",
    "    \n",
    "\n",
    "    # create a 2d grid of cells\n",
    "    cellGrid = [[Cell(numberOfBins, useSigned) for j in range(numCellsHorizontal)] for i in range(numCellsVertical)]\n",
    "    pass"
   ]
  },
  {
   "cell_type": "code",
   "execution_count": null,
   "metadata": {
    "collapsed": true
   },
   "outputs": [],
   "source": [
    "cellGrid = subdivideIntoCells(numpyImage, cellHeight, cellWidth, numberOfBins, useSigned)\n",
    "plotCells(flatten(cellGrid), numpyImage)"
   ]
  },
  {
   "cell_type": "markdown",
   "metadata": {},
   "source": [
    "## Question\n",
    "What do you think is the purpose of the subdivision into cells?"
   ]
  },
  {
   "cell_type": "markdown",
   "metadata": {
    "collapsed": true
   },
   "source": [
    "## Test the histogram generation"
   ]
  },
  {
   "cell_type": "code",
   "execution_count": 302,
   "metadata": {},
   "outputs": [
    {
     "data": {
      "image/png": "[encoded data removed]",
      "text/plain": [
       "<matplotlib.figure.Figure at 0x144c3da0>"
      ]
     },
     "metadata": {},
     "output_type": "display_data"
    }
   ],
   "source": [
    "test_magnitudes = np.ones((6,6))\n",
    "test_orientations = np.ones((6,6)) * 90.0 # only 90 degree angles\n",
    "test_orientations = test_orientations * math.pi / 180.0\n",
    "test_useSigned = True\n",
    "test_numberOfBins = 9\n",
    "\n",
    "test_cell = Cell(test_numberOfBins, test_useSigned)\n",
    "test_cell.setCoordinates(0,0,5,5)\n",
    "test_cell.setDataRestrictedByInternalCoordinates( test_orientations, test_magnitudes )\n",
    "test_cell.createHistogram()\n",
    "test_cell.plotHistogram()"
   ]
  },
  {
   "cell_type": "code",
   "execution_count": 303,
   "metadata": {},
   "outputs": [
    {
     "data": {
      "image/png": "[encoded data removed]",
      "text/plain": [
       "<matplotlib.figure.Figure at 0x19cfceb8>"
      ]
     },
     "metadata": {},
     "output_type": "display_data"
    }
   ],
   "source": [
    "test_magnitudes = np.ones((6,6))\n",
    "test_orientations = np.ones((6,6)) * 300\n",
    "test_orientations[0,0] = 180\n",
    "test_orientations[0,1] = 19\n",
    "test_orientations[0,2] = 20\n",
    "test_orientations[0,3] = 39\n",
    "test_orientations[0,4] = 40\n",
    "test_orientations[0,5] = 359\n",
    "test_orientations[1,0] = 360\n",
    "test_orientations = test_orientations * math.pi / 180.0\n",
    "test_useSigned = True\n",
    "test_numberOfBins = 9\n",
    "\n",
    "test_cell = Cell(test_numberOfBins, test_useSigned)\n",
    "test_cell.setCoordinates(0,0,5,5)\n",
    "test_cell.setDataRestrictedByInternalCoordinates( test_orientations, test_magnitudes )\n",
    "test_cell.createHistogram()\n",
    "test_histogram = test_cell.plotHistogram()"
   ]
  },
  {
   "cell_type": "markdown",
   "metadata": {
    "collapsed": true
   },
   "source": [
    "## Question\n",
    "What is described by the histograms?"
   ]
  },
  {
   "cell_type": "markdown",
   "metadata": {},
   "source": [
    "# 3. Compute the gradient orientation histogram for each cell\n",
    "\n",
    "After the cell grid is generated, we have to compute the gradient orientation histogram for each cell in the grid. Note that you also have to implement the funtion createHistogram in the class Cell."
   ]
  },
  {
   "cell_type": "code",
   "execution_count": 304,
   "metadata": {},
   "outputs": [],
   "source": [
    "def computeHistograms(cellGrid, magnitudes, gradientOrientations):\n",
    "    \"\"\"\n",
    "    This function generates the cell grid and computes the histogram\n",
    "    for each cell.\n",
    "\n",
    "    Parameters\n",
    "    ----------\n",
    "    cellGrid : 2d list\n",
    "        cell grid\n",
    "    magnitudes : 2d numpy array\n",
    "        of gradient magnitudes (same dimension as original image)\n",
    "    gradientOrientations : 2d numpy array \n",
    "        of gradient angles (same dimension as original image)\n",
    "      \n",
    "    \"\"\"\n",
    "    pass"
   ]
  },
  {
   "cell_type": "code",
   "execution_count": 305,
   "metadata": {},
   "outputs": [],
   "source": [
    "computeHistograms(cellGrid, magnitudes, directions)"
   ]
  },
  {
   "cell_type": "markdown",
   "metadata": {},
   "source": [
    "# 4. Put together a few cells to a block"
   ]
  },
  {
   "cell_type": "code",
   "execution_count": 306,
   "metadata": {
    "collapsed": true
   },
   "outputs": [],
   "source": [
    "def plotBlocks(blocks, image):\n",
    "    \"\"\"\n",
    "    This function plots all blocks in the image\n",
    "    \n",
    "    Parameters\n",
    "    ----------\n",
    "    blocks : list of tuples\n",
    "        The parameters computed by the function houghTransform(...)\n",
    "        \n",
    "    image : 2d numpy array\n",
    "        Image which is populated with lines    \n",
    "    \"\"\"\n",
    "    plt.imshow(image, cmap='gray')\n",
    "    rows, cols = image.shape\n",
    "    \n",
    "    for block in blocks:\n",
    "        [startColumn, startRow, endColumn, endRow] = block.getBoundingBox()\n",
    "        endRow += 1\n",
    "        endColumn += 1\n",
    "        \n",
    "        #left top -> right top\n",
    "        plt.plot([startColumn, endColumn], [startRow, startRow], color='b', linestyle='-', linewidth=1)\n",
    "        #left top -> left bottom\n",
    "        plt.plot([startColumn, startColumn], [startRow, endRow], color='b', linestyle='-', linewidth=1)        \n",
    "        # right bottom -> left bottom\n",
    "        plt.plot([endColumn, startColumn], [endRow, endRow], color='b', linestyle='-', linewidth=1)\n",
    "        # right bottom -> right top\n",
    "        plt.plot([endColumn, endColumn], [endRow, startRow], color='b', linestyle='-', linewidth=1)\n",
    "    plt.axis((0, cols, rows, 0))"
   ]
  },
  {
   "cell_type": "code",
   "execution_count": 307,
   "metadata": {
    "collapsed": true
   },
   "outputs": [],
   "source": [
    "class Block:\n",
    "    def __init__(self, blockNormalization=1):\n",
    "        self._listOfComprisingCells = []\n",
    "        \n",
    "        # 0 ... l1 - norm\n",
    "        # 1 ... l2 - norm\n",
    "        # 2 ... l1 - sqrt norm\n",
    "        self._blockNormlizationType = blockNormalization\n",
    "        \n",
    "        self._startColumn = 0\n",
    "        self._startRow = 0\n",
    "        self._endColumn = 0\n",
    "        self._endRow = 0\n",
    "    \n",
    "    def addCellToBlock(self, cell):\n",
    "        \"\"\"\n",
    "        This function adds a cell to this block\n",
    "\n",
    "        Parameters\n",
    "        ----------\n",
    "        cell : Cell object\n",
    "            A cell which is part of this block\n",
    "        \"\"\"\n",
    "        pass\n",
    "        \n",
    "    def setBoundingBox(self, startColumn, startRow, endColumn, endRow):\n",
    "        \"\"\"\n",
    "        This function sets the coordinates of the block\n",
    "\n",
    "        Parameters\n",
    "        ----------\n",
    "        startColumn : int\n",
    "            Starting column of the block\n",
    "        \n",
    "        startRow : int\n",
    "            Starting row of the block\n",
    "            \n",
    "        endColumn : int\n",
    "            End column of the block\n",
    "        \n",
    "        endRow : int\n",
    "            End row of the block\n",
    "        \"\"\"\n",
    "        pass\n",
    "        \n",
    "    def getBoundingBox(self):\n",
    "        \"\"\"\n",
    "        Returns the coordinates of the block\n",
    "\n",
    "        Return\n",
    "        ----------\n",
    "        list of startColumn, startRow, endColumn, endRow\n",
    "        \"\"\"\n",
    "        \n",
    "        pass        \n",
    "        \n",
    "    def getNormalizedBlockHistogram(self):\n",
    "        \"\"\"\n",
    "        This function concatinates all histograms of all cells to the block histgram and normalizes it.\n",
    "\n",
    "        Return\n",
    "        ----------\n",
    "        Normalized block histogram\n",
    "        \"\"\"\n",
    "        \n",
    "        pass"
   ]
  },
  {
   "cell_type": "code",
   "execution_count": 308,
   "metadata": {
    "collapsed": true
   },
   "outputs": [],
   "source": [
    "def mergeCellsIntoBlocks(cellGrid):\n",
    "    \"\"\"\n",
    "    This function generates the block grid and attach all cells to blocks\n",
    "    \n",
    "    Parameters\n",
    "    ----------\n",
    "    cellGrid : 2d list of Cells\n",
    "        All existing cells\n",
    "        \n",
    "    Return\n",
    "    ----------\n",
    "    blockGrid : 2d list of Blocks\n",
    "        All blocks containing cells\n",
    "    \"\"\"        \n",
    "    \n",
    "    \n",
    "\n",
    "    # create a 2d grid of blocks\n",
    "    blockGrid = [[Block() for j in range(numBlocksHorizontal)] for i in range(numBlocksVertical)]\n",
    "\n",
    "    pass"
   ]
  },
  {
   "cell_type": "code",
   "execution_count": 309,
   "metadata": {},
   "outputs": [
    {
     "data": {
      "image/png": "[encoded data removed]",
      "text/plain": [
       "<matplotlib.figure.Figure at 0xb368c50>"
      ]
     },
     "metadata": {},
     "output_type": "display_data"
    }
   ],
   "source": [
    "blockGrid = mergeCellsIntoBlocks(cellGrid)\n",
    "# for the first test lets just display the first three blocks\n",
    "plotBlocks(flatten(blockGrid)[0:3], numpyImage)"
   ]
  },
  {
   "cell_type": "code",
   "execution_count": 310,
   "metadata": {},
   "outputs": [
    {
     "data": {
      "image/png": "[encoded data removed]",
      "text/plain": [
       "<matplotlib.figure.Figure at 0xb4cdc50>"
      ]
     },
     "metadata": {},
     "output_type": "display_data"
    }
   ],
   "source": [
    "# for the first test lets display all blocks\n",
    "plotBlocks(flatten(blockGrid), numpyImage)"
   ]
  },
  {
   "cell_type": "markdown",
   "metadata": {},
   "source": [
    "# 4a. Compute the normalized histogram for each block\n",
    "Implement the function <b>getNormalizedBlockHistogram(...)</b> in the Block class"
   ]
  },
  {
   "cell_type": "markdown",
   "metadata": {},
   "source": [
    "## Question\n",
    "Why do we use blocks and normalize the concatinated histograms?"
   ]
  },
  {
   "cell_type": "markdown",
   "metadata": {},
   "source": [
    "# 5. Concatenate the block histograms to a large vector\n",
    "This is now the last function which needs to be implemented. In this function you have to iterate over all blocks and concatenate all normalized block histograms"
   ]
  },
  {
   "cell_type": "code",
   "execution_count": 311,
   "metadata": {},
   "outputs": [],
   "source": [
    "def getConcatinateBlockHistograms(blockGrid):\n",
    "    \"\"\"\n",
    "    This function concatinates the histograms of each block\n",
    "    \n",
    "    Parameters\n",
    "    ----------\n",
    "    blockGrid : 2d list of Blocks\n",
    "        All existing blocks\n",
    "        \n",
    "    Return\n",
    "    ----------\n",
    "    concatinated histograms (HOG descriptor)\n",
    "    \"\"\"\n",
    "    pass"
   ]
  },
  {
   "cell_type": "markdown",
   "metadata": {},
   "source": [
    "# Write a function which computes the hog descriptor\n",
    "You have now implemented the full functionality to compute the HOG descriptor. Your final task is to write a function which takes as parameter an image and returns its HOG descriptor.<br>\n",
    "This function will be used in the code below for each positive and negative image. The resulting descriptors are used for the training of a linear SVM. You will see how good the learned model can distinct between pedestrians and something else. Of course, there will be some false positives (background which is classified as a pedestrian) - there are much more powerful methods these days."
   ]
  },
  {
   "cell_type": "code",
   "execution_count": 313,
   "metadata": {
    "collapsed": true
   },
   "outputs": [],
   "source": [
    "def getHogDescriptor(numpyImage):\n",
    "    \"\"\"\n",
    "    This function should do all relevant steps to compute the HOG descriptor for a single image\n",
    "    \n",
    "    Parameters\n",
    "    ----------\n",
    "    numpyImage : 2d numpy array\n",
    "        The image patch\n",
    "        \n",
    "    Return\n",
    "    ----------\n",
    "    HOG descriptor\n",
    "    \"\"\"\n",
    "    \n",
    "    pass"
   ]
  },
  {
   "cell_type": "markdown",
   "metadata": {},
   "source": [
    "# Train a classifier with all positive and negative patches\n",
    "We're going to be using the SVC (support vector classifier) SVM (support vector machine). Our kernel is going to be linear, and C is equal to 1.0. What is C you ask? Don't worry about it for now, but, if you must know, C is a valuation of \"how badly\" you want to properly classify, or fit, everything.<br>\n",
    "Before you can train the classifier, you have to load the training and test data (we have provided the code for you - you just need to execute it)"
   ]
  },
  {
   "cell_type": "code",
   "execution_count": 314,
   "metadata": {
    "collapsed": true
   },
   "outputs": [],
   "source": [
    "def loadImagesFromFolder(folder):\n",
    "    \"\"\"\n",
    "    This function loads all images in a given folder\n",
    "    \"\"\"\n",
    "    images = []\n",
    "    \n",
    "    # iterate all files in the given folder\n",
    "    for filename in os.listdir(folder):\n",
    "        # load image\n",
    "        img = Image.open(os.path.join(folder,filename))\n",
    "        if img is not None:\n",
    "            numpyArray = np.array(img)\n",
    "            images.append(numpyArray)\n",
    "        img.close()            \n",
    "    return images"
   ]
  },
  {
   "cell_type": "code",
   "execution_count": 329,
   "metadata": {
    "collapsed": true
   },
   "outputs": [],
   "source": [
    "def loadTrainingData():\n",
    "    \"\"\"\n",
    "    This function loads the relevant training data \n",
    "    (pedestrians and non-pedestrians) for you.\n",
    "    \"\"\"\n",
    "    \n",
    "    # build path to training images\n",
    "    cwd = os.getcwd()\n",
    "    workingDir = cwd.replace('\\\\','/')\n",
    "    workingDir = workingDir.replace('code','dataset/train/')\n",
    "    \n",
    "    posTrainPart1 = loadImagesFromFolder(workingDir+'1/pos/')\n",
    "    posTrainPart2 = loadImagesFromFolder(workingDir+'2/pos/')\n",
    "    posTrainPart3 = loadImagesFromFolder(workingDir+'3/pos/')\n",
    "    \n",
    "    negTrainPart1 = loadImagesFromFolder(workingDir+'1/neg/')\n",
    "    negTrainPart2 = loadImagesFromFolder(workingDir+'2/neg/')\n",
    "    negTrainPart3 = loadImagesFromFolder(workingDir+'3/neg/')\n",
    "    \n",
    "    posTrainingPatches = posTrainPart1 + posTrainPart2 + posTrainPart3\n",
    "    negTrainingPatches = negTrainPart1 + negTrainPart2 + negTrainPart3\n",
    "\n",
    "    print 'Training data: #%d positive patches and #%d negative patches loaded.' % (len(posTrainingPatches), len(negTrainingPatches))\n",
    "    return posTrainingPatches, negTrainingPatches"
   ]
  },
  {
   "cell_type": "code",
   "execution_count": 330,
   "metadata": {
    "collapsed": true
   },
   "outputs": [],
   "source": [
    "def loadTestData():\n",
    "    \"\"\"\n",
    "    This function loads the relevant test data \n",
    "    (pedestrians and non-pedestrians) for you.\n",
    "    \"\"\"\n",
    "    \n",
    "    # build path to training images\n",
    "    cwd = os.getcwd()\n",
    "    workingDir = cwd.replace('\\\\','/')\n",
    "    workingDir = workingDir.replace('code','dataset/test/')\n",
    "    \n",
    "    posTestPart1 = loadImagesFromFolder(workingDir+'T1/pos/')\n",
    "    posTestPart2 = loadImagesFromFolder(workingDir+'T2/pos/')\n",
    "    \n",
    "    negTestPart1 = loadImagesFromFolder(workingDir+'T1/neg/')\n",
    "    negTestPart2 = loadImagesFromFolder(workingDir+'T2/neg/')\n",
    "    \n",
    "    posTestPatches = posTestPart1 + posTestPart2\n",
    "    negTestPatches = negTestPart1 + negTestPart2\n",
    "\n",
    "    print 'Test data: #%d positive patches and #%d negative patches loaded.' % (len(posTestPatches), len(negTestPatches))\n",
    "    return posTestPatches, negTestPatches"
   ]
  },
  {
   "cell_type": "code",
   "execution_count": 331,
   "metadata": {},
   "outputs": [],
   "source": [
    "# choose a linear Support Vector Machine as classifier\n",
    "clf = svm.SVC(kernel='linear', C = 1.0)"
   ]
  },
  {
   "cell_type": "markdown",
   "metadata": {},
   "source": [
    "After we have loaded the data and selected the learning method, we have to attach the labels for the training data and start the training."
   ]
  },
  {
   "cell_type": "code",
   "execution_count": 332,
   "metadata": {},
   "outputs": [
    {
     "name": "stdout",
     "output_type": "stream",
     "text": [
      "Training data: #14400 positive patches and #15000 negative patches loaded.\n"
     ]
    }
   ],
   "source": [
    "# load an prepare the training data\n",
    "pos, neg = loadTrainingData()\n",
    "training_labels = [1] * len(pos) + [0] * len(neg)\n",
    "training_patches = pos + neg\n",
    "training_descriptors = []\n",
    "\n",
    "for training_patch in training_patches:\n",
    "    training_descriptors.append(getHogDescriptor(training_patch))"
   ]
  },
  {
   "cell_type": "code",
   "execution_count": 333,
   "metadata": {},
   "outputs": [
    {
     "data": {
      "text/plain": [
       "SVC(C=1.0, cache_size=200, class_weight=None, coef0=0.0,\n",
       "  decision_function_shape=None, degree=3, gamma='auto', kernel='linear',\n",
       "  max_iter=-1, probability=False, random_state=None, shrinking=True,\n",
       "  tol=0.001, verbose=False)"
      ]
     },
     "execution_count": 333,
     "metadata": {},
     "output_type": "execute_result"
    }
   ],
   "source": [
    "# learn the model\n",
    "clf.fit(training_descriptors,training_labels)"
   ]
  },
  {
   "cell_type": "code",
   "execution_count": 334,
   "metadata": {},
   "outputs": [
    {
     "name": "stdout",
     "output_type": "stream",
     "text": [
      "Test data: #9600 positive patches and #10000 negative patches loaded.\n"
     ]
    }
   ],
   "source": [
    "# load an prepare the training data\n",
    "pos, neg = loadTestData()\n",
    "test_labels = [1] * len(pos) + [0] * len(neg)\n",
    "test_patches = pos + neg\n",
    "test_descriptors = []\n",
    "\n",
    "for test_patch in test_patches:\n",
    "    test_descriptors.append(getHogDescriptor(test_patch))"
   ]
  },
  {
   "cell_type": "code",
   "execution_count": 335,
   "metadata": {
    "collapsed": true
   },
   "outputs": [],
   "source": [
    "# predict test patches\n",
    "test_predictions = clf.predict(test_descriptors)"
   ]
  },
  {
   "cell_type": "code",
   "execution_count": 336,
   "metadata": {
    "collapsed": true
   },
   "outputs": [],
   "source": [
    "def plot_confusion_matrix(cm, classes,\n",
    "                          normalize=False,\n",
    "                          title='Confusion matrix',\n",
    "                          cmap=plt.cm.Blues):\n",
    "    \"\"\"\n",
    "    This function prints and plots the confusion matrix.\n",
    "    Normalization can be applied by setting `normalize=True`.\n",
    "    \n",
    "    Taken from: http://scikit-learn.org\n",
    "    \"\"\"\n",
    "    plt.imshow(cm, interpolation='nearest', cmap=cmap)\n",
    "    plt.title(title)\n",
    "    plt.colorbar()\n",
    "    tick_marks = np.arange(len(classes))\n",
    "    plt.xticks(tick_marks, classes, rotation=45)\n",
    "    plt.yticks(tick_marks, classes)\n",
    "\n",
    "    if normalize:\n",
    "        cm = cm.astype('float') / cm.sum(axis=1)[:, np.newaxis]\n",
    "        print(\"Normalized confusion matrix\")\n",
    "    else:\n",
    "        print('Confusion matrix, without normalization')\n",
    "\n",
    "    print(cm)\n",
    "\n",
    "    thresh = cm.max() / 2.\n",
    "    for i, j in itertools.product(range(cm.shape[0]), range(cm.shape[1])):\n",
    "        plt.text(j, i, cm[i, j],\n",
    "                 horizontalalignment=\"center\",\n",
    "                 color=\"white\" if cm[i, j] > thresh else \"black\")\n",
    "\n",
    "    plt.tight_layout()\n",
    "    plt.ylabel('True label')\n",
    "    plt.xlabel('Predicted label')"
   ]
  },
  {
   "cell_type": "code",
   "execution_count": 337,
   "metadata": {},
   "outputs": [],
   "source": [
    "from sklearn.metrics import confusion_matrix\n",
    "import itertools"
   ]
  },
  {
   "cell_type": "code",
   "execution_count": 338,
   "metadata": {},
   "outputs": [
    {
     "name": "stdout",
     "output_type": "stream",
     "text": [
      "Confusion matrix, without normalization\n",
      "[[7814 2186]\n",
      " [1967 7633]]\n",
      "Normalized confusion matrix\n",
      "[[ 0.78  0.22]\n",
      " [ 0.2   0.8 ]]\n"
     ]
    },
    {
     "data": {
      "image/png": "[encoded data removed]",
      "text/plain": [
       "<matplotlib.figure.Figure at 0x1676dd30>"
      ]
     },
     "metadata": {},
     "output_type": "display_data"
    },
    {
     "data": {
      "image/png": "[encoded data removed]",
      "text/plain": [
       "<matplotlib.figure.Figure at 0x1676dc18>"
      ]
     },
     "metadata": {},
     "output_type": "display_data"
    }
   ],
   "source": [
    "# Compute confusion matrix\n",
    "cnf_matrix = confusion_matrix(test_labels, test_predictions)\n",
    "np.set_printoptions(precision=2)\n",
    "\n",
    "# Plot non-normalized confusion matrix\n",
    "plt.figure()\n",
    "class_names=['background', 'pedestrians']\n",
    "plot_confusion_matrix(cnf_matrix, classes=class_names,\n",
    "                      title='Confusion matrix, without normalization')\n",
    "\n",
    "# Plot normalized confusion matrix\n",
    "plt.figure()\n",
    "plot_confusion_matrix(cnf_matrix, classes=class_names, normalize=True,\n",
    "                      title='Normalized confusion matrix')\n",
    "\n",
    "plt.show()"
   ]
  },
  {
   "cell_type": "code",
   "execution_count": 339,
   "metadata": {
    "collapsed": true
   },
   "outputs": [],
   "source": [
    "from sklearn import metrics\n",
    "from sklearn.metrics import precision_recall_curve\n",
    "from sklearn.metrics import average_precision_score"
   ]
  },
  {
   "cell_type": "markdown",
   "metadata": {},
   "source": [
    "In a binary classification task, the terms \"positive\" and \"negative\" refer to the classifier's prediction, and the terms \"true\" and \"false\" refer to whether that prediction corresponds to the external judgment (sometimes known as the \"observation\"). Given these definitions, we can formulate the following table:\n",
    "\n",
    "<style type=\"text/css\">\n",
    ".tg  {border-collapse:collapse;border-spacing:0;}\n",
    ".tg td{font-family:Arial, sans-serif;font-size:14px;padding:10px 5px;border-style:solid;border-width:1px;overflow:hidden;word-break:normal;}\n",
    ".tg th{font-family:Arial, sans-serif;font-size:14px;font-weight:normal;padding:10px 5px;border-style:solid;border-width:1px;overflow:hidden;word-break:normal;}\n",
    ".tg .tg-3oug{background-color:#fd6864;text-align:center;vertical-align:top}\n",
    ".tg .tg-yw4l{vertical-align:top}\n",
    ".tg .tg-amwm{font-weight:bold;text-align:center;vertical-align:top}\n",
    ".tg .tg-l5iw{background-color:#32cb00;text-align:center;vertical-align:top}\n",
    ".tg .tg-t8yp{background-color:#fd6864;text-align:right;vertical-align:top}\n",
    ".tg .tg-bv1d{background-color:#32cb00;text-align:right;vertical-align:top}\n",
    "</style>\n",
    "<table class=\"tg\">\n",
    "  <tr>\n",
    "    <th class=\"tg-yw4l\"><br></th>\n",
    "    <th class=\"tg-amwm\" colspan=\"2\">Actual class (observation)</th>\n",
    "  </tr>\n",
    "  <tr>\n",
    "    <td class=\"tg-amwm\" rowspan=\"2\">Predicted class<br>(expectation)</td>\n",
    "    <td class=\"tg-l5iw\">tp (true positive)<br>Correct result</td>\n",
    "    <td class=\"tg-t8yp\">fp (false positive)<br>Unexpected result</td>\n",
    "  </tr>\n",
    "  <tr>\n",
    "    <td class=\"tg-3oug\">fn (false negative)<br>Missing result</td>\n",
    "    <td class=\"tg-bv1d\">tn (true negative)<br>Correct absence of result</td>\n",
    "  </tr>\n",
    "</table>\n",
    "\n",
    "In this context, we can define the notions of precision and recall\n",
    "$$\\text{precision} = \\frac{\\text{tp}}{\\text{tp + fp}}$$\n",
    "$$\\text{recall} = \\frac{\\text{tp}}{\\text{tp + fn}}$$\n",
    "\n",
    "In information retrieval, precision is a measure of result relevancy, while recall is a measure of how many truly relevant results are returned. A high area under the curve represents both high recall and high precision, where high precision relates to a low false positive rate, and high recall relates to a low false negative rate. High scores for both show that the classifier is returning accurate results (high precision), as well as returning a majority of all positive results (high recall)."
   ]
  },
  {
   "cell_type": "code",
   "execution_count": 340,
   "metadata": {
    "collapsed": true
   },
   "outputs": [],
   "source": [
    "def getPrecision(test_labels, test_predictions):\n",
    "    pass"
   ]
  },
  {
   "cell_type": "code",
   "execution_count": 341,
   "metadata": {
    "collapsed": true
   },
   "outputs": [],
   "source": [
    "def getRecall(test_labels, test_predictions):\n",
    "    pass"
   ]
  },
  {
   "cell_type": "code",
   "execution_count": 342,
   "metadata": {},
   "outputs": [
    {
     "name": "stdout",
     "output_type": "stream",
     "text": [
      "Precision  0.777370404318   Recall:  0.795104166667\n"
     ]
    }
   ],
   "source": [
    "print 'Precision ', getPrecision(test_labels, test_predictions), ' ', 'Recall: ', getRecall(test_labels, test_predictions)"
   ]
  },
  {
   "cell_type": "markdown",
   "metadata": {},
   "source": [
    "## Question:\n",
    "Try fo beat a precision of 0.83 and a recall of 0.77! If you are wondering, yes there is potential for improvement!\n",
    "What are your numbers? How did you achieve this?"
   ]
  },
  {
   "cell_type": "markdown",
   "metadata": {
    "collapsed": true
   },
   "source": [
    "##  Implement alternative filters (optional) and experiment with parameters\n",
    "Implement additional functions (e.g. gradientX2, gradientY2, correlation3x1, correlation1x3) for computing the gradient in x and y direction (take a look in the lectures) with the 3x1 and 1x3 filter mask.<br>\n",
    "Experiment with the kind of histogram normalization, block size, cell size. If you want, you can also experiment with the parameters of the SVM."
   ]
  },
  {
   "cell_type": "code",
   "execution_count": null,
   "metadata": {
    "collapsed": true
   },
   "outputs": [],
   "source": [
    "def correlate3x1(kernel, image):\n",
    "    \"\"\"\n",
    "    This function correlates a filter kernel (3x1) with an image\n",
    "    \n",
    "    Parameters\n",
    "    ----------\n",
    "    kernel : 2d numpy array\n",
    "        This is the filter kernel used for the correlation\n",
    "        \n",
    "    image : 2d numpy array\n",
    "        Image which should be correlated with a given kernel\n",
    "        \n",
    "    Returns\n",
    "    -------\n",
    "    filteredImage : 2d numpy array\n",
    "        Image after the kernel was applied\n",
    "    \"\"\""
   ]
  },
  {
   "cell_type": "code",
   "execution_count": null,
   "metadata": {},
   "outputs": [],
   "source": [
    "def correlate1x3(kernel, image):\n",
    "    \"\"\"\n",
    "    This function correlates a filter kernel (1x3) with an image\n",
    "    \n",
    "    Parameters\n",
    "    ----------\n",
    "    kernel : 2d numpy array\n",
    "        This is the filter kernel used for the correlation\n",
    "        \n",
    "    image : 2d numpy array\n",
    "        Image which should be correlated with a given kernel\n",
    "        \n",
    "    Returns\n",
    "    -------\n",
    "    filteredImage : 2d numpy array\n",
    "        Image after the kernel was applied\n",
    "    \"\"\""
   ]
  },
  {
   "cell_type": "code",
   "execution_count": null,
   "metadata": {},
   "outputs": [],
   "source": [
    "def gradientX2(image):\n",
    "    \"\"\"\n",
    "    Function computing the edges in X in an given image.\n",
    "    The parameter image is a 2d numpy array.\n",
    "    The function returns the edge-x image.\n",
    "    \n",
    "    Parameters\n",
    "    ----------\n",
    "    image : 2d numpy array\n",
    "        Input image\n",
    "        \n",
    "    Returns\n",
    "    -------\n",
    "    gx : 2d numpy array\n",
    "        Extracted horizontal edges\n",
    "    \"\"\""
   ]
  },
  {
   "cell_type": "code",
   "execution_count": null,
   "metadata": {},
   "outputs": [],
   "source": [
    "def gradientY2(image):\n",
    "    \"\"\"\n",
    "    Function computing the edges in Y in an given image.\n",
    "    The parameter image is a 2d numpy array.\n",
    "    The function returns the edge-y image.\n",
    "    \n",
    "    Parameters\n",
    "    ----------\n",
    "    image : 2d numpy array\n",
    "        Input image\n",
    "        \n",
    "    Returns\n",
    "    -------\n",
    "    gy : 2d numpy array\n",
    "        Extracted horizontal edges\n",
    "    \"\"\""
   ]
  },
  {
   "cell_type": "code",
   "execution_count": null,
   "metadata": {},
   "outputs": [],
   "source": [
    "def getHogDescriptorV2(numpyImage):\n",
    "    \"\"\"\n",
    "    This function should do all relevant steps to compute the HOG descriptor for a single image\n",
    "    \n",
    "    Parameters\n",
    "    ----------\n",
    "    numpyImage : 2d numpy array\n",
    "        The image patch\n",
    "        \n",
    "    Return\n",
    "    ----------\n",
    "    HOG descriptor\n",
    "    \"\"\"\n",
    "    \n",
    "    pass"
   ]
  }
 ],
 "metadata": {
  "anaconda-cloud": {},
  "kernelspec": {
   "display_name": "Python 2",
   "language": "python",
   "name": "python2"
  },
  "language_info": {
   "codemirror_mode": {
    "name": "ipython",
    "version": 2
   },
   "file_extension": ".py",
   "mimetype": "text/x-python",
   "name": "python",
   "nbconvert_exporter": "python",
   "pygments_lexer": "ipython2",
   "version": "2.7.14"
  }
 },
 "nbformat": 4,
 "nbformat_minor": 1
}
